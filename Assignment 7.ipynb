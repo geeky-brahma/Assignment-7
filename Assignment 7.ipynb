{
 "cells": [
  {
   "cell_type": "markdown",
   "id": "c9454195",
   "metadata": {},
   "source": [
    "1."
   ]
  },
  {
   "cell_type": "code",
   "execution_count": 10,
   "id": "fbe1ebf8",
   "metadata": {},
   "outputs": [
    {
     "name": "stdout",
     "output_type": "stream",
     "text": [
      "1259502929811823656960\n"
     ]
    }
   ],
   "source": [
    "l=[1,2,3,4, [44,55,66, True], False, (34,56,78,89,34), {1,2,3,3,2,1}, {1:34, \"key2\": [55, 67, 78, 89], 4: (45, 22, 61, 34)}, [56, 'data science'], 'Machine Learning']\n",
    "multiply=1\n",
    "for i in l:\n",
    "    if type(i)==int:\n",
    "        multiply*=i\n",
    "    elif type(i)==list or type(i)==tuple or type(i)==set:\n",
    "        for j in i:\n",
    "            if type(j)==int:\n",
    "                multiply*=j\n",
    "    elif type(i)==dict:\n",
    "        for k in i.keys():\n",
    "            if type(k)==int:\n",
    "                multiply*=k\n",
    "        for m in i.values():\n",
    "            if type(m)==int:\n",
    "                multiply*=m\n",
    "            elif type(m)==tuple or type(m)==list:\n",
    "                for n in i:\n",
    "                    if type(n)==int:\n",
    "                        multiply*=n\n",
    "        \n",
    "print(multiply)"
   ]
  },
  {
   "cell_type": "markdown",
   "id": "43f7dbf1",
   "metadata": {},
   "source": [
    "2."
   ]
  },
  {
   "cell_type": "code",
   "execution_count": 22,
   "id": "57c8553f",
   "metadata": {},
   "outputs": [
    {
     "name": "stdout",
     "output_type": "stream",
     "text": [
      "Enter a String: I want to become a Data Scientist.\n",
      "Encrypted String: r$dzmg$gl$yvxlnv$z$wzgz$hxrvmgrhg.\n"
     ]
    }
   ],
   "source": [
    "from string import ascii_uppercase, ascii_lowercase \n",
    "alpha_lower=list(ascii_lowercase)\n",
    "alpha_upper=list(ascii_uppercase)\n",
    "string=input(\"Enter a String: \").lower()\n",
    "encrypted_str=\"\"\n",
    "for i in string:\n",
    "    if i.isalpha():\n",
    "        for b in range(26):\n",
    "            if i==alpha_lower[b]:\n",
    "                encrypted_str+=alpha_lower[-b-1] \n",
    "                break\n",
    "    elif i.isspace():\n",
    "        encrypted_str+=\"$\"\n",
    "    else:\n",
    "        encrypted_str+=i\n",
    "print(f\"Encrypted String: {encrypted_str}\")"
   ]
  }
 ],
 "metadata": {
  "kernelspec": {
   "display_name": "Python 3 (ipykernel)",
   "language": "python",
   "name": "python3"
  },
  "language_info": {
   "codemirror_mode": {
    "name": "ipython",
    "version": 3
   },
   "file_extension": ".py",
   "mimetype": "text/x-python",
   "name": "python",
   "nbconvert_exporter": "python",
   "pygments_lexer": "ipython3",
   "version": "3.9.13"
  }
 },
 "nbformat": 4,
 "nbformat_minor": 5
}
